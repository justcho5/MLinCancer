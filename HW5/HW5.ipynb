{
 "cells": [
  {
   "cell_type": "markdown",
   "metadata": {},
   "source": [
    "# Homework 5\n",
    "\n",
    "## The goal of this assignment is to build a very simple model to model the relationship, if any, between the incidence level of colon and rectum cancer for each county and the income level for that county.\n",
    "\n",
    "1. How you prepared the data for modeling\n",
    "2. What features you used and how they were computed.\n",
    "3. The model that you built to model the relationship, if any. \n",
    "4. How you evaluated the model."
   ]
  },
  {
   "cell_type": "code",
   "execution_count": 156,
   "metadata": {},
   "outputs": [],
   "source": [
    "import pandas as pd\n",
    "import os\n",
    "import matplotlib.pyplot as plt\n",
    "from numpy import arange\n",
    "\n",
    "%matplotlib inline"
   ]
  },
  {
   "cell_type": "code",
   "execution_count": 73,
   "metadata": {},
   "outputs": [
    {
     "data": {
      "text/html": [
       "<div>\n",
       "<style scoped>\n",
       "    .dataframe tbody tr th:only-of-type {\n",
       "        vertical-align: middle;\n",
       "    }\n",
       "\n",
       "    .dataframe tbody tr th {\n",
       "        vertical-align: top;\n",
       "    }\n",
       "\n",
       "    .dataframe thead th {\n",
       "        text-align: right;\n",
       "    }\n",
       "</style>\n",
       "<table border=\"1\" class=\"dataframe\">\n",
       "  <thead>\n",
       "    <tr style=\"text-align: right;\">\n",
       "      <th></th>\n",
       "      <th>County</th>\n",
       "      <th>Age-Adjusted Incidence Rate - cases per 100,000</th>\n",
       "      <th>Recent 5-Year Trend in Incidence Rates</th>\n",
       "    </tr>\n",
       "  </thead>\n",
       "  <tbody>\n",
       "    <tr>\n",
       "      <td>0</td>\n",
       "      <td>Yukon-Koyukuk Census Area, Alaska</td>\n",
       "      <td>138.6</td>\n",
       "      <td>2.9</td>\n",
       "    </tr>\n",
       "    <tr>\n",
       "      <td>1</td>\n",
       "      <td>Union County, Florida</td>\n",
       "      <td>121.7</td>\n",
       "      <td>1.2</td>\n",
       "    </tr>\n",
       "    <tr>\n",
       "      <td>2</td>\n",
       "      <td>Kingsbury County, South Dakota</td>\n",
       "      <td>114.2</td>\n",
       "      <td>2.2</td>\n",
       "    </tr>\n",
       "    <tr>\n",
       "      <td>3</td>\n",
       "      <td>Wade Hampton Census Area, Alaska</td>\n",
       "      <td>102.1</td>\n",
       "      <td>*</td>\n",
       "    </tr>\n",
       "    <tr>\n",
       "      <td>4</td>\n",
       "      <td>Nome Census Area, Alaska</td>\n",
       "      <td>101.2</td>\n",
       "      <td>2.6</td>\n",
       "    </tr>\n",
       "  </tbody>\n",
       "</table>\n",
       "</div>"
      ],
      "text/plain": [
       "                              County  \\\n",
       "0  Yukon-Koyukuk Census Area, Alaska   \n",
       "1              Union County, Florida   \n",
       "2     Kingsbury County, South Dakota   \n",
       "3   Wade Hampton Census Area, Alaska   \n",
       "4           Nome Census Area, Alaska   \n",
       "\n",
       "  Age-Adjusted Incidence Rate - cases per 100,000  \\\n",
       "0                                           138.6   \n",
       "1                                           121.7   \n",
       "2                                           114.2   \n",
       "3                                           102.1   \n",
       "4                                           101.2   \n",
       "\n",
       "  Recent 5-Year Trend in Incidence Rates  \n",
       "0                                    2.9  \n",
       "1                                    1.2  \n",
       "2                                    2.2  \n",
       "3                                      *  \n",
       "4                                    2.6  "
      ]
     },
     "execution_count": 73,
     "metadata": {},
     "output_type": "execute_result"
    }
   ],
   "source": [
    "# Loading the colon/rectum incidence level data\n",
    "incidence = pd.read_csv('./incd-v3.txt', sep = '\\t')\n",
    "incidence = incidence.drop(0, axis=0).replace(to_replace = r\"\\(.*\\)\", value=\"\", regex=True)\n",
    "incidence = incidence.reset_index(drop=True)[['County', 'Age-Adjusted Incidence Rate - cases per 100,000', 'Recent 5-Year Trend in Incidence Rates']]\n",
    "incidence.head()"
   ]
  },
  {
   "cell_type": "code",
   "execution_count": 74,
   "metadata": {},
   "outputs": [
    {
     "name": "stderr",
     "output_type": "stream",
     "text": [
      "/Users/justina/anaconda3/envs/proj/lib/python3.7/site-packages/ipykernel_launcher.py:1: ParserWarning: Falling back to the 'python' engine because the 'c' engine does not support skipfooter; you can avoid this warning by specifying engine='python'.\n",
      "  \"\"\"Entry point for launching an IPython kernel.\n"
     ]
    },
    {
     "data": {
      "text/html": [
       "<div>\n",
       "<style scoped>\n",
       "    .dataframe tbody tr th:only-of-type {\n",
       "        vertical-align: middle;\n",
       "    }\n",
       "\n",
       "    .dataframe tbody tr th {\n",
       "        vertical-align: top;\n",
       "    }\n",
       "\n",
       "    .dataframe thead th {\n",
       "        text-align: right;\n",
       "    }\n",
       "</style>\n",
       "<table border=\"1\" class=\"dataframe\">\n",
       "  <thead>\n",
       "    <tr style=\"text-align: right;\">\n",
       "      <th></th>\n",
       "      <th>County</th>\n",
       "      <th>Value (Dollars)</th>\n",
       "    </tr>\n",
       "  </thead>\n",
       "  <tbody>\n",
       "    <tr>\n",
       "      <td>0</td>\n",
       "      <td>Jefferson County, Mississippi</td>\n",
       "      <td>21816.000000000</td>\n",
       "    </tr>\n",
       "    <tr>\n",
       "      <td>1</td>\n",
       "      <td>Todd County, South Dakota</td>\n",
       "      <td>22889.000000000</td>\n",
       "    </tr>\n",
       "    <tr>\n",
       "      <td>2</td>\n",
       "      <td>Puerto Rico</td>\n",
       "      <td>24391.000000000</td>\n",
       "    </tr>\n",
       "    <tr>\n",
       "      <td>3</td>\n",
       "      <td>Holmes County, Mississippi</td>\n",
       "      <td>26374.000000000</td>\n",
       "    </tr>\n",
       "    <tr>\n",
       "      <td>4</td>\n",
       "      <td>Clay County, Georgia</td>\n",
       "      <td>27500.000000000</td>\n",
       "    </tr>\n",
       "  </tbody>\n",
       "</table>\n",
       "</div>"
      ],
      "text/plain": [
       "                          County  Value (Dollars)\n",
       "0  Jefferson County, Mississippi  21816.000000000\n",
       "1      Todd County, South Dakota  22889.000000000\n",
       "2                    Puerto Rico  24391.000000000\n",
       "3     Holmes County, Mississippi  26374.000000000\n",
       "4           Clay County, Georgia  27500.000000000"
      ]
     },
     "execution_count": 74,
     "metadata": {},
     "output_type": "execute_result"
    }
   ],
   "source": [
    "# Loading the county level income level data\n",
    "county = pd.read_csv('./census.csv', skiprows=6, skipfooter=11).drop(0, axis=0).reset_index(drop=True)[['State', 'Value (Dollars)']].rename(columns ={'State': 'County'})\n",
    "county.head()"
   ]
  },
  {
   "cell_type": "code",
   "execution_count": 75,
   "metadata": {},
   "outputs": [
    {
     "name": "stdout",
     "output_type": "stream",
     "text": [
      "Shape of Median Family Income data: (3141, 2)\n",
      "Shape of Incidence data: (2948, 3)\n"
     ]
    }
   ],
   "source": [
    "print(f\"Shape of Median Family Income data: {county.shape}\")\n",
    "print(f\"Shape of Incidence data: {incidence.shape}\")"
   ]
  },
  {
   "cell_type": "code",
   "execution_count": 91,
   "metadata": {},
   "outputs": [],
   "source": [
    "data = incidence.merge(county, on = 'County')"
   ]
  },
  {
   "cell_type": "code",
   "execution_count": 92,
   "metadata": {},
   "outputs": [],
   "source": [
    "# Join the incidence and income data on County\n",
    "data = incidence.merge(county, on = 'County')\n",
    "data = data.replace(to_replace = r\"\\s{0,2}\\*{1,3}\\s{0,2}\", value = float('NaN'), regex=True).dropna(subset= ['Age-Adjusted Incidence Rate - cases per 100,000'])\n",
    "data = data[data['Value (Dollars)']!='data not available']\n",
    "data = data.astype({'Age-Adjusted Incidence Rate - cases per 100,000': 'float', 'Value (Dollars)': 'float'})\n",
    "data.head()\n",
    "\n",
    "data2 = data.dropna(how='any')"
   ]
  },
  {
   "cell_type": "code",
   "execution_count": 85,
   "metadata": {},
   "outputs": [],
   "source": [
    "\n",
    "# plot the dataset and the model's line of best fit\n",
    "def plot_best_fit(X, y, model):\n",
    "    # fut the model on all data\n",
    "    model.fit(X, y)\n",
    "    # plot the dataset\n",
    "    plt.scatter(X, y)\n",
    "    # plot the line of best fit\n",
    "    xaxis = arange(X.min(), X.max(), 0.01)\n",
    "    yaxis = model.predict(xaxis.reshape((len(xaxis), 1)))\n",
    "    plt.plot(xaxis, yaxis, color='r')\n",
    "    # show the plot\n",
    "    plt.title(type(model).__name__)\n",
    "    plt.show()"
   ]
  },
  {
   "cell_type": "code",
   "execution_count": 170,
   "metadata": {},
   "outputs": [
    {
     "name": "stdout",
     "output_type": "stream",
     "text": [
      "R^2: 0.1222278990850818\n"
     ]
    },
    {
     "data": {
      "image/png": "[encoded data removed]",
      "text/plain": [
       "<Figure size 432x288 with 1 Axes>"
      ]
     },
     "metadata": {
      "needs_background": "light"
     },
     "output_type": "display_data"
    }
   ],
   "source": [
    "# Linear regression between Value and Age-adjusted incidence\n",
    "from sklearn.linear_model import LinearRegression\n",
    "X = data['Value (Dollars)'].to_numpy().reshape(-1,1)\n",
    "y = data['Age-Adjusted Incidence Rate - cases per 100,000']\n",
    "reg = LinearRegression().fit(data['Value (Dollars)'].to_numpy().reshape(-1,1), data['Age-Adjusted Incidence Rate - cases per 100,000'])\n",
    "print(f'R^2: {reg.score(X, y)}')\n",
    "plot_best_fit(X,y,reg)"
   ]
  },
  {
   "cell_type": "code",
   "execution_count": 171,
   "metadata": {},
   "outputs": [
    {
     "name": "stdout",
     "output_type": "stream",
     "text": [
      "R^2: 0.013715909788218572\n"
     ]
    },
    {
     "data": {
      "image/png": "[encoded data removed]",
      "text/plain": [
       "<Figure size 432x288 with 1 Axes>"
      ]
     },
     "metadata": {
      "needs_background": "light"
     },
     "output_type": "display_data"
    }
   ],
   "source": [
    "# Linear regression between Value and Recent 5-year trend in incidence\n",
    "from sklearn.linear_model import LinearRegression\n",
    "X = data2['Value (Dollars)'].to_numpy().reshape(-1,1)\n",
    "y = data2['Recent 5-Year Trend in Incidence Rates']\n",
    "reg = LinearRegression().fit(data2['Value (Dollars)'].to_numpy().reshape(-1,1), data2['Recent 5-Year Trend in Incidence Rates'])\n",
    "print(f'R^2: {reg.score(X, y)}')\n",
    "plot_best_fit(X,y,reg)"
   ]
  },
  {
   "cell_type": "markdown",
   "metadata": {},
   "source": [
    "## Summary:\n",
    "\n",
    "I cleaned both the incidence and income data so that low values (marked by \\*) and NaN values are removed. Then I kept potentially relevant columns such as `'Age-Adjusted Incidence Rate - cases per 100,000'`, `'Recent 5-Year Trend in Incidence Rates'`, and `'Value (Dollars)'`. The two dataframes were joined on county to result in the final merged data `data`. I'm interested in determining whether there is a relationship between incidence and income so I do a simple linear regression first between `'Age-Adjusted Incidence Rate - cases per 100,000'` as `y` and `'Value (Dollars)'` as `X`. I evaluate the model based on the `R^2` given by the `model.score(X,y)` function. `R^2` gives the goodness-of-fit. The `R^2` between `'Age-Adjusted Incidence Rate - cases per 100,000'` and `'Value (Dollars)'` is **0.1222** and the `R^2` between `'Recent 5-Year Trend in Incidence Rates'`, and `'Value (Dollars)'` is **0.0137**, close to no association. `'Age-Adjusted Incidence Rate - cases per 100,000'` and `'Value (Dollars)'` model has a small positive linear association. Below I try to experiment with different polynomial features of the `'Value (Dollars)'` data to investigate whether higher polynomial features associate better with the income. I found that when the feature `'Value (Dollars)'` is transformed to a higher polynomial feature space, specifically of degree 3, the `R^2` value increases to **0.1307**; however, the association is still small."
   ]
  },
  {
   "cell_type": "code",
   "execution_count": 168,
   "metadata": {},
   "outputs": [
    {
     "name": "stdout",
     "output_type": "stream",
     "text": [
      "Best R^2 score with polynomial features of degree 3.\n",
      "Score is 0.13073825068399147.\n"
     ]
    },
    {
     "data": {
      "image/png": "[encoded data removed]",
      "text/plain": [
       "<Figure size 432x288 with 1 Axes>"
      ]
     },
     "metadata": {
      "needs_background": "light"
     },
     "output_type": "display_data"
    }
   ],
   "source": [
    "# Exploring polynomial features\n",
    "from sklearn.preprocessing import PolynomialFeatures\n",
    "\n",
    "X = data['Value (Dollars)'].to_numpy().reshape(-1,1)\n",
    "y = data['Age-Adjusted Incidence Rate - cases per 100,000']\n",
    "scores = []\n",
    "for p in range(10):\n",
    "    \n",
    "    poly = PolynomialFeatures(p+1)\n",
    "    X_poly = poly.fit_transform(X)\n",
    "    reg = LinearRegression().fit(X_poly,y)\n",
    "    scores.append(reg.score(X_poly, y))\n",
    "plt.scatter(list(range(10)), scores)\n",
    "plt.title('R^2 values with polynomial features of varying degrees')\n",
    "print(f'Best R^2 score with polynomial features of degree {np.argmax(scores)+1}.')\n",
    "\n",
    "poly = PolynomialFeatures(np.argmax(scores)+1)\n",
    "X_poly = poly.fit_transform(X)\n",
    "reg = LinearRegression().fit(X_poly,y)\n",
    "print(f'Score is {reg.score(X_poly, y)}.')"
   ]
  },
  {
   "cell_type": "code",
   "execution_count": null,
   "metadata": {},
   "outputs": [],
   "source": []
  }
 ],
 "metadata": {
  "kernelspec": {
   "display_name": "Python [conda env:proj] *",
   "language": "python",
   "name": "conda-env-proj-py"
  },
  "language_info": {
   "codemirror_mode": {
    "name": "ipython",
    "version": 3
   },
   "file_extension": ".py",
   "mimetype": "text/x-python",
   "name": "python",
   "nbconvert_exporter": "python",
   "pygments_lexer": "ipython3",
   "version": "3.7.4"
  }
 },
 "nbformat": 4,
 "nbformat_minor": 2
}
